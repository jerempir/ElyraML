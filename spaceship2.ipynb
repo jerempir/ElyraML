{
 "cells": [
  {
   "cell_type": "code",
   "execution_count": 1,
   "id": "a5db7f1e",
   "metadata": {
    "collapsed": true,
    "execution": {
     "iopub.execute_input": "2023-12-22T11:23:27.746804Z",
     "iopub.status.busy": "2023-12-22T11:23:27.746804Z",
     "iopub.status.idle": "2023-12-22T11:23:29.314010Z",
     "shell.execute_reply": "2023-12-22T11:23:29.313036Z"
    },
    "papermill": {
     "duration": 1.575038,
     "end_time": "2023-12-22T11:23:29.315973",
     "exception": false,
     "start_time": "2023-12-22T11:23:27.740935",
     "status": "completed"
    },
    "pycharm": {
     "name": "#%%\n"
    },
    "tags": []
   },
   "outputs": [],
   "source": [
    "import pandas as pd\n",
    "from sklearn.model_selection import train_test_split\n",
    "from sklearn.ensemble import RandomForestClassifier\n",
    "from sklearn.metrics import accuracy_score, confusion_matrix\n"
   ]
  },
  {
   "cell_type": "code",
   "execution_count": 2,
   "id": "86f01f95",
   "metadata": {
    "collapsed": false,
    "execution": {
     "iopub.execute_input": "2023-12-22T11:23:29.324007Z",
     "iopub.status.busy": "2023-12-22T11:23:29.324007Z",
     "iopub.status.idle": "2023-12-22T11:23:29.378079Z",
     "shell.execute_reply": "2023-12-22T11:23:29.377075Z"
    },
    "papermill": {
     "duration": 0.061102,
     "end_time": "2023-12-22T11:23:29.380075",
     "exception": false,
     "start_time": "2023-12-22T11:23:29.318973",
     "status": "completed"
    },
    "pycharm": {
     "name": "#%%\n"
    },
    "tags": []
   },
   "outputs": [
    {
     "data": {
      "text/html": [
       "<div>\n",
       "<style scoped>\n",
       "    .dataframe tbody tr th:only-of-type {\n",
       "        vertical-align: middle;\n",
       "    }\n",
       "\n",
       "    .dataframe tbody tr th {\n",
       "        vertical-align: top;\n",
       "    }\n",
       "\n",
       "    .dataframe thead th {\n",
       "        text-align: right;\n",
       "    }\n",
       "</style>\n",
       "<table border=\"1\" class=\"dataframe\">\n",
       "  <thead>\n",
       "    <tr style=\"text-align: right;\">\n",
       "      <th></th>\n",
       "      <th>HomePlanet</th>\n",
       "      <th>CryoSleep</th>\n",
       "      <th>Destination</th>\n",
       "      <th>Age</th>\n",
       "      <th>VIP</th>\n",
       "      <th>RoomService</th>\n",
       "      <th>FoodCourt</th>\n",
       "      <th>Spa</th>\n",
       "      <th>VRDeck</th>\n",
       "      <th>Transported</th>\n",
       "      <th>Deck</th>\n",
       "      <th>Side</th>\n",
       "    </tr>\n",
       "  </thead>\n",
       "  <tbody>\n",
       "    <tr>\n",
       "      <th>0</th>\n",
       "      <td>1</td>\n",
       "      <td>0</td>\n",
       "      <td>2</td>\n",
       "      <td>39.0</td>\n",
       "      <td>0</td>\n",
       "      <td>0.0</td>\n",
       "      <td>0.0</td>\n",
       "      <td>0.0</td>\n",
       "      <td>0.0</td>\n",
       "      <td>0</td>\n",
       "      <td>1</td>\n",
       "      <td>0</td>\n",
       "    </tr>\n",
       "    <tr>\n",
       "      <th>1</th>\n",
       "      <td>0</td>\n",
       "      <td>0</td>\n",
       "      <td>2</td>\n",
       "      <td>24.0</td>\n",
       "      <td>0</td>\n",
       "      <td>109.0</td>\n",
       "      <td>9.0</td>\n",
       "      <td>549.0</td>\n",
       "      <td>44.0</td>\n",
       "      <td>1</td>\n",
       "      <td>5</td>\n",
       "      <td>1</td>\n",
       "    </tr>\n",
       "    <tr>\n",
       "      <th>2</th>\n",
       "      <td>1</td>\n",
       "      <td>0</td>\n",
       "      <td>2</td>\n",
       "      <td>58.0</td>\n",
       "      <td>1</td>\n",
       "      <td>43.0</td>\n",
       "      <td>3576.0</td>\n",
       "      <td>6715.0</td>\n",
       "      <td>49.0</td>\n",
       "      <td>0</td>\n",
       "      <td>0</td>\n",
       "      <td>1</td>\n",
       "    </tr>\n",
       "    <tr>\n",
       "      <th>3</th>\n",
       "      <td>1</td>\n",
       "      <td>0</td>\n",
       "      <td>2</td>\n",
       "      <td>33.0</td>\n",
       "      <td>0</td>\n",
       "      <td>0.0</td>\n",
       "      <td>1283.0</td>\n",
       "      <td>3329.0</td>\n",
       "      <td>193.0</td>\n",
       "      <td>0</td>\n",
       "      <td>0</td>\n",
       "      <td>1</td>\n",
       "    </tr>\n",
       "    <tr>\n",
       "      <th>4</th>\n",
       "      <td>0</td>\n",
       "      <td>0</td>\n",
       "      <td>2</td>\n",
       "      <td>16.0</td>\n",
       "      <td>0</td>\n",
       "      <td>303.0</td>\n",
       "      <td>70.0</td>\n",
       "      <td>565.0</td>\n",
       "      <td>2.0</td>\n",
       "      <td>1</td>\n",
       "      <td>5</td>\n",
       "      <td>1</td>\n",
       "    </tr>\n",
       "    <tr>\n",
       "      <th>...</th>\n",
       "      <td>...</td>\n",
       "      <td>...</td>\n",
       "      <td>...</td>\n",
       "      <td>...</td>\n",
       "      <td>...</td>\n",
       "      <td>...</td>\n",
       "      <td>...</td>\n",
       "      <td>...</td>\n",
       "      <td>...</td>\n",
       "      <td>...</td>\n",
       "      <td>...</td>\n",
       "      <td>...</td>\n",
       "    </tr>\n",
       "    <tr>\n",
       "      <th>8677</th>\n",
       "      <td>1</td>\n",
       "      <td>0</td>\n",
       "      <td>0</td>\n",
       "      <td>41.0</td>\n",
       "      <td>1</td>\n",
       "      <td>0.0</td>\n",
       "      <td>6819.0</td>\n",
       "      <td>1643.0</td>\n",
       "      <td>74.0</td>\n",
       "      <td>0</td>\n",
       "      <td>0</td>\n",
       "      <td>0</td>\n",
       "    </tr>\n",
       "    <tr>\n",
       "      <th>8678</th>\n",
       "      <td>0</td>\n",
       "      <td>1</td>\n",
       "      <td>1</td>\n",
       "      <td>18.0</td>\n",
       "      <td>0</td>\n",
       "      <td>0.0</td>\n",
       "      <td>0.0</td>\n",
       "      <td>0.0</td>\n",
       "      <td>0.0</td>\n",
       "      <td>0</td>\n",
       "      <td>6</td>\n",
       "      <td>1</td>\n",
       "    </tr>\n",
       "    <tr>\n",
       "      <th>8679</th>\n",
       "      <td>0</td>\n",
       "      <td>0</td>\n",
       "      <td>2</td>\n",
       "      <td>26.0</td>\n",
       "      <td>0</td>\n",
       "      <td>0.0</td>\n",
       "      <td>0.0</td>\n",
       "      <td>1.0</td>\n",
       "      <td>0.0</td>\n",
       "      <td>1</td>\n",
       "      <td>6</td>\n",
       "      <td>1</td>\n",
       "    </tr>\n",
       "    <tr>\n",
       "      <th>8680</th>\n",
       "      <td>1</td>\n",
       "      <td>0</td>\n",
       "      <td>0</td>\n",
       "      <td>32.0</td>\n",
       "      <td>0</td>\n",
       "      <td>0.0</td>\n",
       "      <td>1049.0</td>\n",
       "      <td>353.0</td>\n",
       "      <td>3235.0</td>\n",
       "      <td>0</td>\n",
       "      <td>4</td>\n",
       "      <td>1</td>\n",
       "    </tr>\n",
       "    <tr>\n",
       "      <th>8681</th>\n",
       "      <td>1</td>\n",
       "      <td>0</td>\n",
       "      <td>2</td>\n",
       "      <td>44.0</td>\n",
       "      <td>0</td>\n",
       "      <td>126.0</td>\n",
       "      <td>4688.0</td>\n",
       "      <td>0.0</td>\n",
       "      <td>12.0</td>\n",
       "      <td>1</td>\n",
       "      <td>4</td>\n",
       "      <td>1</td>\n",
       "    </tr>\n",
       "  </tbody>\n",
       "</table>\n",
       "<p>8682 rows × 12 columns</p>\n",
       "</div>"
      ],
      "text/plain": [
       "      HomePlanet  CryoSleep  Destination   Age  VIP  RoomService  FoodCourt  \\\n",
       "0              1          0            2  39.0    0          0.0        0.0   \n",
       "1              0          0            2  24.0    0        109.0        9.0   \n",
       "2              1          0            2  58.0    1         43.0     3576.0   \n",
       "3              1          0            2  33.0    0          0.0     1283.0   \n",
       "4              0          0            2  16.0    0        303.0       70.0   \n",
       "...          ...        ...          ...   ...  ...          ...        ...   \n",
       "8677           1          0            0  41.0    1          0.0     6819.0   \n",
       "8678           0          1            1  18.0    0          0.0        0.0   \n",
       "8679           0          0            2  26.0    0          0.0        0.0   \n",
       "8680           1          0            0  32.0    0          0.0     1049.0   \n",
       "8681           1          0            2  44.0    0        126.0     4688.0   \n",
       "\n",
       "         Spa  VRDeck  Transported  Deck  Side  \n",
       "0        0.0     0.0            0     1     0  \n",
       "1      549.0    44.0            1     5     1  \n",
       "2     6715.0    49.0            0     0     1  \n",
       "3     3329.0   193.0            0     0     1  \n",
       "4      565.0     2.0            1     5     1  \n",
       "...      ...     ...          ...   ...   ...  \n",
       "8677  1643.0    74.0            0     0     0  \n",
       "8678     0.0     0.0            0     6     1  \n",
       "8679     1.0     0.0            1     6     1  \n",
       "8680   353.0  3235.0            0     4     1  \n",
       "8681     0.0    12.0            1     4     1  \n",
       "\n",
       "[8682 rows x 12 columns]"
      ]
     },
     "execution_count": 2,
     "metadata": {},
     "output_type": "execute_result"
    }
   ],
   "source": [
    "# Загружаем DataFrame из CSV файла\n",
    "df = pd.read_csv('spaceship2.csv')\n",
    "df"
   ]
  },
  {
   "cell_type": "code",
   "execution_count": 3,
   "id": "41fbfe52",
   "metadata": {
    "collapsed": false,
    "execution": {
     "iopub.execute_input": "2023-12-22T11:23:29.390113Z",
     "iopub.status.busy": "2023-12-22T11:23:29.389079Z",
     "iopub.status.idle": "2023-12-22T11:23:29.409364Z",
     "shell.execute_reply": "2023-12-22T11:23:29.408388Z"
    },
    "papermill": {
     "duration": 0.027254,
     "end_time": "2023-12-22T11:23:29.411365",
     "exception": false,
     "start_time": "2023-12-22T11:23:29.384111",
     "status": "completed"
    },
    "pycharm": {
     "name": "#%%\n"
    },
    "tags": []
   },
   "outputs": [],
   "source": [
    "\n",
    "\n",
    "# Подготовка данных\n",
    "X = df.drop('Transported', axis=1)\n",
    "y = df['Transported']\n",
    "\n",
    "# Преобразование категориальных признаков (можно использовать Label Encoding или One-Hot Encoding)\n",
    "# Пример: X_encoded = pd.get_dummies(X)\n",
    "\n",
    "# Разделение данных на обучающий и тестовый наборы\n",
    "X_train, X_test, y_train, y_test = train_test_split(X, y, test_size=0.2, random_state=42)\n",
    "\n",
    "# Выбор и обучение модели (Random Forest Classifier в данном примере)\n",
    "model = RandomForestClassifier(n_estimators=100, random_state=42)\n",
    "\n"
   ]
  },
  {
   "cell_type": "code",
   "execution_count": 4,
   "id": "068af415",
   "metadata": {
    "collapsed": false,
    "execution": {
     "iopub.execute_input": "2023-12-22T11:23:29.421363Z",
     "iopub.status.busy": "2023-12-22T11:23:29.420331Z",
     "iopub.status.idle": "2023-12-22T11:23:30.367896Z",
     "shell.execute_reply": "2023-12-22T11:23:30.367006Z"
    },
    "papermill": {
     "duration": 0.954514,
     "end_time": "2023-12-22T11:23:30.369874",
     "exception": false,
     "start_time": "2023-12-22T11:23:29.415360",
     "status": "completed"
    },
    "pycharm": {
     "name": "#%%\n"
    },
    "tags": []
   },
   "outputs": [],
   "source": [
    "model.fit(X_train, y_train)\n",
    "# Прогнозирование на тестовом наборе\n",
    "y_pred = model.predict(X_test)"
   ]
  },
  {
   "cell_type": "code",
   "execution_count": 5,
   "id": "0b54d2b0",
   "metadata": {
    "collapsed": false,
    "execution": {
     "iopub.execute_input": "2023-12-22T11:23:30.378874Z",
     "iopub.status.busy": "2023-12-22T11:23:30.377876Z",
     "iopub.status.idle": "2023-12-22T11:23:30.400416Z",
     "shell.execute_reply": "2023-12-22T11:23:30.398406Z"
    },
    "papermill": {
     "duration": 0.028571,
     "end_time": "2023-12-22T11:23:30.402412",
     "exception": false,
     "start_time": "2023-12-22T11:23:30.373841",
     "status": "completed"
    },
    "pycharm": {
     "name": "#%%\n"
    },
    "tags": []
   },
   "outputs": [
    {
     "name": "stdout",
     "output_type": "stream",
     "text": [
      "Accuracy: 0.7754749568221071\n",
      "Confusion Matrix:\n",
      "[[708 177]\n",
      " [213 639]]\n"
     ]
    }
   ],
   "source": [
    "\n",
    "# Оценка производительности модели\n",
    "accuracy = accuracy_score(y_test, y_pred)\n",
    "conf_matrix = confusion_matrix(y_test, y_pred)\n",
    "\n",
    "print(f'Accuracy: {accuracy}')\n",
    "print('Confusion Matrix:')\n",
    "print(conf_matrix)\n"
   ]
  },
  {
   "cell_type": "code",
   "execution_count": 6,
   "id": "a3729dae",
   "metadata": {
    "collapsed": false,
    "execution": {
     "iopub.execute_input": "2023-12-22T11:23:30.412466Z",
     "iopub.status.busy": "2023-12-22T11:23:30.411450Z",
     "iopub.status.idle": "2023-12-22T11:23:30.542121Z",
     "shell.execute_reply": "2023-12-22T11:23:30.541121Z"
    },
    "papermill": {
     "duration": 0.13767,
     "end_time": "2023-12-22T11:23:30.544119",
     "exception": false,
     "start_time": "2023-12-22T11:23:30.406449",
     "status": "completed"
    },
    "pycharm": {
     "name": "#%%\n"
    },
    "tags": []
   },
   "outputs": [],
   "source": [
    "import pandas as pd\n",
    "from sklearn.model_selection import train_test_split\n",
    "from catboost import CatBoostClassifier\n",
    "from sklearn.metrics import accuracy_score, confusion_matrix\n",
    "\n",
    "# Загрузите ваш обработанный датасет\n",
    "# Пример: df = pd.read_csv('ваш_файл.csv')\n",
    "\n",
    "# Подготовка данных\n",
    "X = df.drop('Transported', axis=1)\n",
    "y = df['Transported']\n",
    "# Преобразование категориальных признаков (можно использовать Label Encoding или One-Hot Encoding)\n",
    "# Пример: X_encoded = pd.get_dummies(X)\n",
    "\n",
    "# Разделение данных на обучающий и тестовый наборы\n",
    "X_train, X_test, y_train, y_test = train_test_split(X, y, test_size=0.2, random_state=42)\n"
   ]
  },
  {
   "cell_type": "code",
   "execution_count": 7,
   "id": "fdbbd1b5",
   "metadata": {
    "collapsed": false,
    "execution": {
     "iopub.execute_input": "2023-12-22T11:23:30.555119Z",
     "iopub.status.busy": "2023-12-22T11:23:30.554120Z",
     "iopub.status.idle": "2023-12-22T11:23:31.121617Z",
     "shell.execute_reply": "2023-12-22T11:23:31.120619Z"
    },
    "papermill": {
     "duration": 0.574494,
     "end_time": "2023-12-22T11:23:31.123616",
     "exception": false,
     "start_time": "2023-12-22T11:23:30.549122",
     "status": "completed"
    },
    "pycharm": {
     "name": "#%%\n"
    },
    "tags": []
   },
   "outputs": [
    {
     "name": "stdout",
     "output_type": "stream",
     "text": [
      "0:\tlearn: 0.5908007\ttotal: 163ms\tremaining: 12.9s\n",
      "1:\tlearn: 0.5377755\ttotal: 172ms\tremaining: 6.71s\n",
      "2:\tlearn: 0.5061117\ttotal: 178ms\tremaining: 4.57s\n",
      "3:\tlearn: 0.4848941\ttotal: 184ms\tremaining: 3.5s\n",
      "4:\tlearn: 0.4708683\ttotal: 190ms\tremaining: 2.85s\n",
      "5:\tlearn: 0.4575383\ttotal: 196ms\tremaining: 2.42s\n",
      "6:\tlearn: 0.4494263\ttotal: 200ms\tremaining: 2.09s\n",
      "7:\tlearn: 0.4436865\ttotal: 204ms\tremaining: 1.83s\n",
      "8:\tlearn: 0.4383353\ttotal: 207ms\tremaining: 1.64s\n",
      "9:\tlearn: 0.4291614\ttotal: 211ms\tremaining: 1.48s\n",
      "10:\tlearn: 0.4258039\ttotal: 215ms\tremaining: 1.35s\n",
      "11:\tlearn: 0.4210880\ttotal: 219ms\tremaining: 1.24s\n",
      "12:\tlearn: 0.4176006\ttotal: 224ms\tremaining: 1.15s\n",
      "13:\tlearn: 0.4155831\ttotal: 228ms\tremaining: 1.07s\n",
      "14:\tlearn: 0.4142454\ttotal: 232ms\tremaining: 1.01s\n",
      "15:\tlearn: 0.4128989\ttotal: 236ms\tremaining: 945ms\n",
      "16:\tlearn: 0.4112222\ttotal: 241ms\tremaining: 893ms\n",
      "17:\tlearn: 0.4101318\ttotal: 246ms\tremaining: 846ms\n",
      "18:\tlearn: 0.4087322\ttotal: 249ms\tremaining: 800ms\n",
      "19:\tlearn: 0.4075780\ttotal: 253ms\tremaining: 760ms\n",
      "20:\tlearn: 0.4063545\ttotal: 257ms\tremaining: 722ms\n",
      "21:\tlearn: 0.4054884\ttotal: 260ms\tremaining: 686ms\n",
      "22:\tlearn: 0.4046206\ttotal: 264ms\tremaining: 653ms\n",
      "23:\tlearn: 0.4039279\ttotal: 267ms\tremaining: 623ms\n",
      "24:\tlearn: 0.4012615\ttotal: 271ms\tremaining: 595ms\n",
      "25:\tlearn: 0.3990353\ttotal: 274ms\tremaining: 569ms\n",
      "26:\tlearn: 0.3971754\ttotal: 277ms\tremaining: 544ms\n",
      "27:\tlearn: 0.3963142\ttotal: 281ms\tremaining: 521ms\n",
      "28:\tlearn: 0.3948791\ttotal: 284ms\tremaining: 500ms\n",
      "29:\tlearn: 0.3938869\ttotal: 288ms\tremaining: 479ms\n",
      "30:\tlearn: 0.3923956\ttotal: 291ms\tremaining: 460ms\n",
      "31:\tlearn: 0.3906682\ttotal: 294ms\tremaining: 442ms\n",
      "32:\tlearn: 0.3896449\ttotal: 298ms\tremaining: 425ms\n",
      "33:\tlearn: 0.3885669\ttotal: 302ms\tremaining: 408ms\n",
      "34:\tlearn: 0.3863149\ttotal: 305ms\tremaining: 392ms\n",
      "35:\tlearn: 0.3854420\ttotal: 309ms\tremaining: 377ms\n",
      "36:\tlearn: 0.3841674\ttotal: 312ms\tremaining: 363ms\n",
      "37:\tlearn: 0.3833258\ttotal: 316ms\tremaining: 349ms\n",
      "38:\tlearn: 0.3823456\ttotal: 319ms\tremaining: 336ms\n",
      "39:\tlearn: 0.3817317\ttotal: 323ms\tremaining: 323ms\n",
      "40:\tlearn: 0.3809449\ttotal: 326ms\tremaining: 310ms\n",
      "41:\tlearn: 0.3801148\ttotal: 330ms\tremaining: 298ms\n",
      "42:\tlearn: 0.3792866\ttotal: 333ms\tremaining: 287ms\n",
      "43:\tlearn: 0.3782773\ttotal: 336ms\tremaining: 275ms\n",
      "44:\tlearn: 0.3770981\ttotal: 340ms\tremaining: 264ms\n",
      "45:\tlearn: 0.3756886\ttotal: 344ms\tremaining: 254ms\n",
      "46:\tlearn: 0.3745451\ttotal: 347ms\tremaining: 244ms\n",
      "47:\tlearn: 0.3740060\ttotal: 350ms\tremaining: 233ms\n",
      "48:\tlearn: 0.3734222\ttotal: 354ms\tremaining: 224ms\n"
     ]
    },
    {
     "name": "stdout",
     "output_type": "stream",
     "text": [
      "49:\tlearn: 0.3726678\ttotal: 358ms\tremaining: 215ms\n",
      "50:\tlearn: 0.3717385\ttotal: 362ms\tremaining: 206ms\n",
      "51:\tlearn: 0.3710721\ttotal: 365ms\tremaining: 197ms\n",
      "52:\tlearn: 0.3704334\ttotal: 369ms\tremaining: 188ms\n",
      "53:\tlearn: 0.3698721\ttotal: 372ms\tremaining: 179ms\n",
      "54:\tlearn: 0.3683826\ttotal: 376ms\tremaining: 171ms\n",
      "55:\tlearn: 0.3670377\ttotal: 379ms\tremaining: 162ms\n",
      "56:\tlearn: 0.3665768\ttotal: 382ms\tremaining: 154ms\n",
      "57:\tlearn: 0.3653323\ttotal: 386ms\tremaining: 146ms\n",
      "58:\tlearn: 0.3637903\ttotal: 389ms\tremaining: 139ms\n",
      "59:\tlearn: 0.3625500\ttotal: 393ms\tremaining: 131ms\n",
      "60:\tlearn: 0.3618112\ttotal: 396ms\tremaining: 123ms\n",
      "61:\tlearn: 0.3612182\ttotal: 400ms\tremaining: 116ms\n",
      "62:\tlearn: 0.3603165\ttotal: 406ms\tremaining: 110ms\n",
      "63:\tlearn: 0.3594955\ttotal: 411ms\tremaining: 103ms\n",
      "64:\tlearn: 0.3587865\ttotal: 415ms\tremaining: 95.8ms\n",
      "65:\tlearn: 0.3582429\ttotal: 419ms\tremaining: 89ms\n",
      "66:\tlearn: 0.3578249\ttotal: 424ms\tremaining: 82.2ms\n",
      "67:\tlearn: 0.3574179\ttotal: 428ms\tremaining: 75.5ms\n",
      "68:\tlearn: 0.3568922\ttotal: 436ms\tremaining: 69.5ms\n",
      "69:\tlearn: 0.3562198\ttotal: 441ms\tremaining: 62.9ms\n",
      "70:\tlearn: 0.3554942\ttotal: 445ms\tremaining: 56.4ms\n",
      "71:\tlearn: 0.3544257\ttotal: 450ms\tremaining: 50ms\n",
      "72:\tlearn: 0.3538331\ttotal: 454ms\tremaining: 43.5ms\n",
      "73:\tlearn: 0.3531135\ttotal: 459ms\tremaining: 37.2ms\n",
      "74:\tlearn: 0.3519226\ttotal: 466ms\tremaining: 31ms\n",
      "75:\tlearn: 0.3507672\ttotal: 471ms\tremaining: 24.8ms\n",
      "76:\tlearn: 0.3499465\ttotal: 474ms\tremaining: 18.5ms\n",
      "77:\tlearn: 0.3491672\ttotal: 478ms\tremaining: 12.3ms\n",
      "78:\tlearn: 0.3479228\ttotal: 481ms\tremaining: 6.09ms\n",
      "79:\tlearn: 0.3472510\ttotal: 485ms\tremaining: 0us\n"
     ]
    }
   ],
   "source": [
    "# Создание и обучение модели CatBoost\n",
    "model = CatBoostClassifier(iterations=80, depth=6, learning_rate=0.35, loss_function='MultiClass', random_state=42)\n",
    "model.fit(X_train, y_train)\n",
    "\n",
    "# Прогнозирование на тестовом наборе\n",
    "y_pred = model.predict(X_test)"
   ]
  },
  {
   "cell_type": "code",
   "execution_count": 8,
   "id": "d03eb6e5",
   "metadata": {
    "collapsed": false,
    "execution": {
     "iopub.execute_input": "2023-12-22T11:23:31.134616Z",
     "iopub.status.busy": "2023-12-22T11:23:31.134616Z",
     "iopub.status.idle": "2023-12-22T11:23:31.152622Z",
     "shell.execute_reply": "2023-12-22T11:23:31.151678Z"
    },
    "papermill": {
     "duration": 0.026001,
     "end_time": "2023-12-22T11:23:31.154617",
     "exception": false,
     "start_time": "2023-12-22T11:23:31.128616",
     "status": "completed"
    },
    "pycharm": {
     "name": "#%%\n"
    },
    "tags": []
   },
   "outputs": [
    {
     "name": "stdout",
     "output_type": "stream",
     "text": [
      "Accuracy: 0.7973517559009787\n",
      "Confusion Matrix:\n"
     ]
    }
   ],
   "source": [
    "# Оценка производительности модели\n",
    "accuracy = accuracy_score(y_test, y_pred)\n",
    "conf_matrix = confusion_matrix(y_test, y_pred)\n",
    "\n",
    "print(f'Accuracy: {accuracy}')\n",
    "print('Confusion Matrix:')\n",
    "#print(conf_matrix)\n"
   ]
  },
  {
   "cell_type": "code",
   "execution_count": null,
   "id": "e5df9477",
   "metadata": {
    "collapsed": false,
    "papermill": {
     "duration": 0.005044,
     "end_time": "2023-12-22T11:23:31.164660",
     "exception": false,
     "start_time": "2023-12-22T11:23:31.159616",
     "status": "completed"
    },
    "pycharm": {
     "name": "#%%\n"
    },
    "tags": []
   },
   "outputs": [],
   "source": []
  }
 ],
 "metadata": {
  "kernelspec": {
   "display_name": "Python 3",
   "language": "python",
   "name": "python3"
  },
  "language_info": {
   "codemirror_mode": {
    "name": "ipython",
    "version": 3
   },
   "file_extension": ".py",
   "mimetype": "text/x-python",
   "name": "python",
   "nbconvert_exporter": "python",
   "pygments_lexer": "ipython3",
   "version": "3.10.6"
  },
  "papermill": {
   "default_parameters": {},
   "duration": 6.12718,
   "end_time": "2023-12-22T11:23:31.534701",
   "environment_variables": {},
   "exception": null,
   "input_path": "C:\\Users\\user\\PycharmProjects\\PipelineElyra\\spaceship2.ipynb",
   "output_path": "C:\\Users\\user\\PycharmProjects\\PipelineElyra\\spaceship2.ipynb",
   "parameters": {},
   "start_time": "2023-12-22T11:23:25.407521",
   "version": "2.5.0"
  }
 },
 "nbformat": 4,
 "nbformat_minor": 5
}